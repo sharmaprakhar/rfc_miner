{
 "cells": [
  {
   "cell_type": "code",
   "execution_count": 1,
   "metadata": {},
   "outputs": [],
   "source": [
    "from functools import total_ordering\n",
    "import numpy as np\n",
    "from os import listdir\n",
    "from os.path import isfile, join\n",
    "import re\n",
    "from collections import defaultdict\n",
    "import subprocess\n",
    "import string\n",
    "import matplotlib\n",
    "import pandas as pd\n",
    "import seaborn as sns\n",
    "import matplotlib.pyplot as plt\n",
    "%matplotlib inline"
   ]
  },
  {
   "cell_type": "code",
   "execution_count": 2,
   "metadata": {},
   "outputs": [],
   "source": [
    "# {'ϔ': 0, 's': 1, 'j': 2, '\\x0c': 3, 'ß': 4, 'k': 5, 'ϋ': 6, '}': 7, '7': 8, ')': 9, 'l': 10, '>': 11, \n",
    "#  'ꮪ': 12, 'w': 13, 'v': 14, ']': 15, '1': 16, 'ⅳ': 17, '\\x08': 18, '♦': 19, 'y': 20, '!': 21, '/': 22, \n",
    "#  '|': 23, '$': 24, ',': 25, 'ς': 26, '_': 27, 'z': 28, 'ꭲ': 29, '*': 30, 't': 31, '4': 32, '¹': 33, \n",
    "#  '[': 34, 'σ': 35, '∞': 36, 'b': 37, 'a': 38, '+': 39, '(': 40, '9': 41, '\\u1680': 42, 'h': 43, '?': 44, \n",
    "#  'ı': 45, 'm': 46, '0': 47, '\"': 48, 'ꮢ': 49, ':': 50, '໐': 51, 'u': 52, '6': 53, '%': 54, 'å': 55, \n",
    "#  'é': 56, '3': 57, '£': 58, 'p': 59, '#': 60, '.': 61, 'ü': 62, '8': 63, '@': 64, 'g': 65, 'i': 66, \n",
    "#  'x': 67, 'ዐ': 68, '０': 69, '5': 70, 'd': 71, '\\\\': 72, '2': 73, 'ſ': 74, 'ꮅ': 75, 'π': 76, 'e': 77, \n",
    "#  '-': 78, '<': 79, ';': 80, '=': 81, '&': 82, 'ﬁ': 83, '~': 84, '\\ufeff': 85, 'r': 86, '\\t': 87, \n",
    "#  '\\x00': 88, 'ꮛ': 89, '€': 90, 'n': 91, '{': 92, '\\n': 93, '`': 94, 'а': 95, ' ': 96, 'o': 97, 'c': 98, \n",
    "#  '^': 99, 'q': 100, \"'\": 101, 'f': 102}\n",
    "\n",
    "specials = ['\\n', '}', ')', '>', ']', '!', '/', '|', '$', ',', '_', '*', '?', '\"', ':', '%', '@', '.', '#', '\\\\', '\\t', '~', '&', '=', ';', '<', '-', '{', ' ', '^', \"'\"]"
   ]
  },
  {
   "cell_type": "code",
   "execution_count": 3,
   "metadata": {},
   "outputs": [],
   "source": [
    "onlyfiles = [join('annotated_rfcs/', f) for f in listdir('annotated_rfcs/') if isfile(join('annotated_rfcs/', f))]\n",
    "\n",
    "window = 5\n",
    "\n",
    "label_dict = { 'onr_rfcclass_nlt' : 0, 'onr_rfcclass_strdef' : 1, 'onr_rfcclass_msgStructure' : 2,\n",
    "'onr_rfcclass_dataflow' : 3,\n",
    "'onr_rfcclass_topologyDiag' : 4,\n",
    "'onr_rfcclass_table' : 5,\n",
    "'onr_rfcclass_stateTD' : 6,\n",
    "'onr_rfcclass_cs' : 7,\n",
    "'onr_rfcclass_protocolLayerDiag' : 8,\n",
    "'onr_rfcclass_caption' : 9,\n",
    "'onr_rfcclass_headers' : 10,\n",
    "'onr_rfcclass_toc' : 11,\n",
    "'onr_rfcclass_lex_spec' : 12 }\n",
    "\n",
    "# for k in label_dict.keys():\n",
    "#     label_dict[k]-=1\n",
    "# print(label_dict)"
   ]
  },
  {
   "cell_type": "code",
   "execution_count": 4,
   "metadata": {},
   "outputs": [],
   "source": [
    "def process_window(w):\n",
    "    # print('w:',len(w)) \n",
    "    lst = []\n",
    "    for k in w:\n",
    "        lst.append([x for x in k])\n",
    "    return lst"
   ]
  },
  {
   "cell_type": "code",
   "execution_count": 5,
   "metadata": {},
   "outputs": [],
   "source": [
    "def make(onlyfiles, train=True):\n",
    "    samples = []\n",
    "    labels = []\n",
    "    for r in onlyfiles:\n",
    "        if train and r == 'annotated_rfcs/mqtt.txt':\n",
    "            continue\n",
    "        print('processing :', r)\n",
    "        with open(r,  encoding=\"utf8\", errors='ignore') as rfh:\n",
    "            lines = rfh.readlines()\n",
    "            cur_tag = 'onr_rfcclass_nlt'\n",
    "            cur_label = label_dict[cur_tag]\n",
    "            for i,l in enumerate(lines):\n",
    "                if l=='\\n':\n",
    "#                     print('yowzaa!!')\n",
    "                    continue\n",
    "                if 'onr_rfcclass' in l:\n",
    "                    if 'onr_rfcclass_references_start' in l:\n",
    "                        break\n",
    "                    if l.startswith('<end_'):\n",
    "                        cur_tag = 'onr_rfcclass_nlt'\n",
    "                        cur_label = label_dict[cur_tag]\n",
    "                        continue\n",
    "                    else:\n",
    "                        cur_tag = l.strip()[1:-1]\n",
    "                        # print(cur_tag)\n",
    "                        cur_label = label_dict[cur_tag]\n",
    "                        continue\n",
    "                if i<=window: # lines before the window'th line\n",
    "                    lst = process_window(lines[i:i+window+1])\n",
    "                    smpl = [['a' for _ in range(50)] for _ in range(window)] + lst\n",
    "                    # print(len(smpl))\n",
    "                    assert len(smpl)==2*window+1\n",
    "                elif i==len(lines)-1:\n",
    "                    lst = process_window(lines[i-window:i+1])\n",
    "                    smpl = lst + [['a' for _ in range(50)] for _ in range(window)]\n",
    "                    # print(len(smpl))\n",
    "                    assert len(smpl)==2*window+1\n",
    "                else:\n",
    "                    smpl = process_window(lines[i-window:i+1]) + process_window(lines[i+1:i+window+1])\n",
    "                    # print(len(smpl))\n",
    "                    assert len(smpl)==2*window+1\n",
    "                samples.append(smpl)\n",
    "                labels.append(cur_label)\n",
    "    for _ in range(window):\n",
    "        samples.pop()\n",
    "        labels.pop()\n",
    "    return samples, labels"
   ]
  },
  {
   "cell_type": "code",
   "execution_count": 6,
   "metadata": {},
   "outputs": [
    {
     "name": "stdout",
     "output_type": "stream",
     "text": [
      "processing : annotated_rfcs/rfc2131.txt\n",
      "processing : annotated_rfcs/rfc1035.txt\n",
      "processing : annotated_rfcs/rfc1661.txt\n",
      "processing : annotated_rfcs/rfc2616.txt\n",
      "processing : annotated_rfcs/rfc1001.txt\n"
     ]
    }
   ],
   "source": [
    "samples, labels = make(onlyfiles)"
   ]
  },
  {
   "cell_type": "code",
   "execution_count": 7,
   "metadata": {},
   "outputs": [
    {
     "name": "stdout",
     "output_type": "stream",
     "text": [
      "processing : annotated_rfcs/mqtt.txt\n"
     ]
    }
   ],
   "source": [
    "samples_mqtt, labels_mqtt = make(['annotated_rfcs/mqtt.txt'], train = False)"
   ]
  },
  {
   "cell_type": "code",
   "execution_count": 8,
   "metadata": {},
   "outputs": [
    {
     "name": "stdout",
     "output_type": "stream",
     "text": [
      "1279\n",
      "14194\n"
     ]
    }
   ],
   "source": [
    "print(len(samples_mqtt))\n",
    "print(len(samples))"
   ]
  },
  {
   "cell_type": "code",
   "execution_count": 9,
   "metadata": {},
   "outputs": [],
   "source": [
    "# for i in samples[len(samples)//2]:\n",
    "#     print(''.join(i))"
   ]
  },
  {
   "cell_type": "markdown",
   "metadata": {},
   "source": [
    "### RFC character bookkeepping"
   ]
  },
  {
   "cell_type": "code",
   "execution_count": 10,
   "metadata": {},
   "outputs": [
    {
     "name": "stdout",
     "output_type": "stream",
     "text": [
      "max length of rfc line: 82\n"
     ]
    }
   ],
   "source": [
    "# get max line in RFCs\n",
    "onlyfiles = [join('../rfcs', f) for f in listdir('../rfcs') if isfile(join('../rfcs', f))]\n",
    "length_max = []\n",
    "for r in onlyfiles:\n",
    "    with open(r,  encoding=\"utf8\", errors='ignore') as rfh:\n",
    "        lines = rfh.readlines()\n",
    "        for l in lines:\n",
    "            length_max.append([l, len(l)])\n",
    "#ascending\n",
    "length_max = sorted(length_max, key=lambda x:x[1], reverse=True)\n",
    "# extract starting from the third element\n",
    "\n",
    "def get_char_vocab():\n",
    "    max_set = set()\n",
    "    onlyfiles = [join('../rfcs', f) for f in listdir('../rfcs') if isfile(join('../rfcs', f))]\n",
    "    for r in onlyfiles:\n",
    "        with open(r,  encoding=\"utf8\", errors='ignore') as rfh:\n",
    "            lines = rfh.readlines()\n",
    "            for l in lines:\n",
    "                l = l.lower()\n",
    "                l = set(l)\n",
    "                max_set = max_set.union(l)\n",
    "    return max_set\n",
    "\n",
    "print('max length of rfc line:', length_max[2][1])\n",
    "\n",
    "# vocab is the set of all chars in RFCs (mentioned above)\n",
    "# need to filter down to lowercase alphabets and chosen special characters\n",
    "vocab = get_char_vocab()\n",
    "\n",
    "# allowed = list(string.ascii_lowercase) + [str(x) for x in range(10)] + specials\n",
    "allowed = ['char'] + ['digit'] + specials\n",
    "# allowed = ['char'] + ['digit'] + ['specials']\n",
    "\n",
    "num_feat = len(allowed)+1\n",
    "\n",
    "char_to_idx = {}\n",
    "idx_to_char = {}\n",
    "for i,e in enumerate(allowed):\n",
    "    # allowed chars get an integer\n",
    "    # all others get unknown (idx = len(allowed))\n",
    "    char_to_idx[e] = i\n",
    "    idx_to_char[i] = e\n",
    "    "
   ]
  },
  {
   "cell_type": "code",
   "execution_count": 11,
   "metadata": {},
   "outputs": [
    {
     "name": "stdout",
     "output_type": "stream",
     "text": [
      "{0: 'char', 1: 'digit', 2: '\\n', 3: '}', 4: ')', 5: '>', 6: ']', 7: '!', 8: '/', 9: '|', 10: '$', 11: ',', 12: '_', 13: '*', 14: '?', 15: '\"', 16: ':', 17: '%', 18: '@', 19: '.', 20: '#', 21: '\\\\', 22: '\\t', 23: '~', 24: '&', 25: '=', 26: ';', 27: '<', 28: '-', 29: '{', 30: ' ', 31: '^', 32: \"'\", 33: 'å'}\n"
     ]
    }
   ],
   "source": [
    "idx_to_char[len(allowed)] = 'å'\n",
    "print(idx_to_char)"
   ]
  },
  {
   "cell_type": "code",
   "execution_count": 12,
   "metadata": {},
   "outputs": [
    {
     "name": "stdout",
     "output_type": "stream",
     "text": [
      "ratio of blank lines to total lines: 0.226581013744604\n"
     ]
    }
   ],
   "source": [
    "cnt=0\n",
    "c=0\n",
    "for s in samples:\n",
    "    for l in s:\n",
    "        c+=1\n",
    "        if l==['\\n']:\n",
    "            cnt+=1\n",
    "print('ratio of blank lines to total lines:', cnt/c)"
   ]
  },
  {
   "cell_type": "code",
   "execution_count": 13,
   "metadata": {},
   "outputs": [],
   "source": [
    "for i,e in enumerate(samples):\n",
    "    for j,v in enumerate(e):\n",
    "        if v==['\\n']:\n",
    "            samples[i][j]=['\\n']*length_max[2][1]\n",
    "\n",
    "for i,e in enumerate(samples_mqtt):\n",
    "    for j,v in enumerate(e):\n",
    "        if v==['\\n']:\n",
    "            samples_mqtt[i][j]=['\\n']*length_max[2][1]"
   ]
  },
  {
   "cell_type": "markdown",
   "metadata": {},
   "source": [
    "### Build samples : with context this time"
   ]
  },
  {
   "cell_type": "code",
   "execution_count": 14,
   "metadata": {},
   "outputs": [],
   "source": [
    "_maxlen = length_max[2][1]\n",
    "def create_samples(samples):\n",
    "    '''\n",
    "    read each sample, convert line to list of integers (indexes) using char_to_idx\n",
    "    join the resulting vector to master array\n",
    "    return array\n",
    "    '''\n",
    "    data = []\n",
    "    for s in samples:\n",
    "        mini_data = []\n",
    "        for line_list in s:\n",
    "            ll = []\n",
    "            cur_len = len(line_list)\n",
    "            for char in line_list:\n",
    "                if char.isalpha():\n",
    "                    ll.append(char_to_idx['char'])\n",
    "#                     ll.append(char_to_idx[char])\n",
    "                elif char.isdigit():\n",
    "                    ll.append(char_to_idx['digit'])\n",
    "#                     ll.append(char_to_idx[digit])\n",
    "                elif char in specials:\n",
    "                    ll.append(char_to_idx[char])\n",
    "#                     ll.append(char_to_idx['specials'])\n",
    "                else:\n",
    "                    ll.append(len(allowed))\n",
    "            # pad sequences shorter than _maxlen\n",
    "            pad = _maxlen - cur_len\n",
    "            for _ in range(pad):\n",
    "                ll.append(len(allowed))\n",
    "            mini_data.append(ll)\n",
    "        data.append(mini_data)\n",
    "    return np.array(data)"
   ]
  },
  {
   "cell_type": "code",
   "execution_count": 15,
   "metadata": {},
   "outputs": [],
   "source": [
    "X = create_samples(samples)\n",
    "y = np.array(labels)\n",
    "\n",
    "X_mqtt = create_samples(samples_mqtt)\n",
    "y_mqtt = np.array(labels_mqtt)"
   ]
  },
  {
   "cell_type": "code",
   "execution_count": 16,
   "metadata": {},
   "outputs": [
    {
     "name": "stdout",
     "output_type": "stream",
     "text": [
      "(14194, 11, 82)\n",
      "(14194,)\n",
      "(1279, 11, 82)\n",
      "(1279,)\n"
     ]
    }
   ],
   "source": [
    "print(X.shape)\n",
    "print(y.shape)\n",
    "print(X_mqtt.shape)\n",
    "print(y_mqtt.shape)"
   ]
  },
  {
   "cell_type": "code",
   "execution_count": 17,
   "metadata": {},
   "outputs": [],
   "source": [
    "def int_to_one_hot(idx):\n",
    "    res = np.zeros((1,num_feat))\n",
    "    res[0][idx] = 1\n",
    "    return res"
   ]
  },
  {
   "cell_type": "code",
   "execution_count": 18,
   "metadata": {},
   "outputs": [
    {
     "name": "stdout",
     "output_type": "stream",
     "text": [
      "(14194, 11, 82, 34)\n"
     ]
    }
   ],
   "source": [
    "vector_len = len(allowed)+1\n",
    "big_mat = []\n",
    "for sample in X: # (5,82)\n",
    "    mat = []\n",
    "    for s in sample: # (82,)\n",
    "        idx_mat = []\n",
    "        for idx in s:\n",
    "            cand = np.zeros((vector_len))\n",
    "            cand[idx] = 1 #(1x33)\n",
    "            idx_mat.append(cand)\n",
    "        mat.append(idx_mat)\n",
    "    big_mat.append(np.array(mat))\n",
    "    \n",
    "big_mat = np.array(big_mat)\n",
    "print(big_mat.shape)"
   ]
  },
  {
   "cell_type": "code",
   "execution_count": 19,
   "metadata": {},
   "outputs": [
    {
     "name": "stdout",
     "output_type": "stream",
     "text": [
      "(1279, 11, 82, 34)\n"
     ]
    }
   ],
   "source": [
    "big_mat_mqtt = []\n",
    "for sample in X_mqtt: # (5,82)\n",
    "    mat = []\n",
    "    for s in sample: # (82,)\n",
    "        idx_mat = []\n",
    "        for idx in s:\n",
    "            cand = np.zeros((vector_len))\n",
    "            cand[idx] = 1 #(1x33)\n",
    "            idx_mat.append(cand)\n",
    "        mat.append(idx_mat)\n",
    "    big_mat_mqtt.append(np.array(mat))\n",
    "    \n",
    "big_mat_mqtt = np.array(big_mat_mqtt)\n",
    "print(big_mat_mqtt.shape)"
   ]
  },
  {
   "cell_type": "markdown",
   "metadata": {},
   "source": [
    "### (m,n,p,q) : m: samples, n: window, p: line length, q: one hot characters in line"
   ]
  },
  {
   "cell_type": "code",
   "execution_count": 20,
   "metadata": {},
   "outputs": [
    {
     "name": "stdout",
     "output_type": "stream",
     "text": [
      "data and labels shape: (14194, 11, 82, 34) (14194,)\n",
      "data and labels shape mqtt: (1279, 11, 82, 34) (1279,)\n"
     ]
    }
   ],
   "source": [
    "print('data and labels shape:', big_mat.shape, y.shape)\n",
    "print('data and labels shape mqtt:', big_mat_mqtt.shape, y_mqtt.shape)"
   ]
  },
  {
   "cell_type": "code",
   "execution_count": 21,
   "metadata": {},
   "outputs": [],
   "source": [
    "sh = big_mat.shape\n",
    "sh_mqtt = big_mat_mqtt.shape\n",
    "big_mat = big_mat.reshape(sh[0], -1)\n",
    "big_mat_mqtt = big_mat_mqtt.reshape(sh_mqtt[0], -1)"
   ]
  },
  {
   "cell_type": "code",
   "execution_count": 22,
   "metadata": {},
   "outputs": [
    {
     "name": "stdout",
     "output_type": "stream",
     "text": [
      "(14194, 30668) (14194,)\n",
      "(1279, 30668) (1279,)\n"
     ]
    }
   ],
   "source": [
    "# filter data matrix to ignore the nlt samples\n",
    "# big_mat = big_mat[y!=-1]\n",
    "# y = y[y!=-1]\n",
    "# big_mat_mqtt = big_mat_mqtt[y_mqtt!=-1]\n",
    "# y_mqtt = y_mqtt[y_mqtt!=-1]\n",
    "print(big_mat.shape, y.shape)\n",
    "print(big_mat_mqtt.shape, y_mqtt.shape)"
   ]
  },
  {
   "cell_type": "code",
   "execution_count": 23,
   "metadata": {},
   "outputs": [],
   "source": [
    "c = len(label_dict)"
   ]
  },
  {
   "cell_type": "code",
   "execution_count": 24,
   "metadata": {},
   "outputs": [],
   "source": [
    "# labels to one hot\n",
    "# labels = np.zeros((y.shape[0], c))\n",
    "# print(labels.shape)\n",
    "# for i in range(labels.shape[0]):\n",
    "#     labels[i][y[i]]=1"
   ]
  },
  {
   "cell_type": "code",
   "execution_count": 25,
   "metadata": {},
   "outputs": [
    {
     "name": "stdout",
     "output_type": "stream",
     "text": [
      "label: 0, samples : 11980\n",
      "label: 1, samples : 7\n",
      "label: 2, samples : 402\n",
      "label: 3, samples : 447\n",
      "label: 4, samples : 65\n",
      "label: 5, samples : 259\n",
      "label: 6, samples : 57\n",
      "label: 7, samples : 0\n",
      "label: 8, samples : 0\n",
      "label: 9, samples : 13\n",
      "label: 10, samples : 0\n",
      "label: 11, samples : 560\n",
      "label: 12, samples : 404\n",
      "!!!!!!!!!\n",
      "label_mqtt: 0, samples : 1079\n",
      "label_mqtt: 1, samples : 0\n",
      "label_mqtt: 2, samples : 88\n",
      "label_mqtt: 3, samples : 46\n",
      "label_mqtt: 4, samples : 0\n",
      "label_mqtt: 5, samples : 0\n",
      "label_mqtt: 6, samples : 0\n",
      "label_mqtt: 7, samples : 0\n",
      "label_mqtt: 8, samples : 0\n",
      "label_mqtt: 9, samples : 0\n",
      "label_mqtt: 10, samples : 0\n",
      "label_mqtt: 11, samples : 47\n",
      "label_mqtt: 12, samples : 19\n"
     ]
    }
   ],
   "source": [
    "for i in range(13):\n",
    "    print('label: {}, samples : {}'.format(i, y[y==i].shape[0]))\n",
    "print('!!!!!!!!!')\n",
    "for i in range(13):\n",
    "    print('label_mqtt: {}, samples : {}'.format(i, y_mqtt[y_mqtt==i].shape[0]))"
   ]
  },
  {
   "cell_type": "markdown",
   "metadata": {},
   "source": [
    "## PyTorch data and Model training for line classification"
   ]
  },
  {
   "cell_type": "code",
   "execution_count": 26,
   "metadata": {},
   "outputs": [],
   "source": [
    "import torch\n",
    "import torch.nn as nn\n",
    "# from models import lstm_model, classifier\n",
    "from torch.nn import LSTM, Linear, ReLU, BatchNorm1d, Dropout, MaxPool1d\n",
    "import torch.nn.functional as F\n",
    "\n",
    "from torch.utils.data import Dataset, DataLoader, TensorDataset\n",
    "from sklearn.model_selection import train_test_split"
   ]
  },
  {
   "cell_type": "code",
   "execution_count": 27,
   "metadata": {},
   "outputs": [],
   "source": [
    "input_size = big_mat.shape[1]\n",
    "batch_size = 1024\n",
    "hidden_size = 128\n",
    "num_layers = 2\n",
    "device = 'cuda'\n",
    "epochs = 100\n",
    "counter = 0\n",
    "print_every = 100\n",
    "clip = 5\n",
    "valid_loss_min = np.Inf"
   ]
  },
  {
   "cell_type": "markdown",
   "metadata": {},
   "source": [
    "### big mat size: samples x features"
   ]
  },
  {
   "cell_type": "code",
   "execution_count": 28,
   "metadata": {},
   "outputs": [
    {
     "name": "stdout",
     "output_type": "stream",
     "text": [
      "train samples: 12774, test samples: 1420\n"
     ]
    }
   ],
   "source": [
    "X_train, X_test, y_train, y_test = train_test_split(big_mat, y, test_size=0.1, random_state=42)\n",
    "print('train samples: {}, test samples: {}'.format(X_train.shape[0], X_test.shape[0]))\n",
    "\n",
    "train_dataset = TensorDataset(torch.Tensor(X_train), torch.Tensor(y_train)) \n",
    "test_dataset = TensorDataset(torch.Tensor(X_test), torch.Tensor(y_test))\n",
    "\n",
    "train_loader = torch.utils.data.DataLoader(dataset=train_dataset,\n",
    "                                                    batch_size=batch_size, \n",
    "                                                    shuffle=True)\n",
    "            \n",
    "test_loader = torch.utils.data.DataLoader(dataset=test_dataset,\n",
    "                                                    batch_size=batch_size, \n",
    "                                                    shuffle=False)"
   ]
  },
  {
   "cell_type": "code",
   "execution_count": 29,
   "metadata": {},
   "outputs": [],
   "source": [
    "class classifier(nn.Module):\n",
    "    def __init__(self, input_size, num_classes):\n",
    "        super(classifier, self).__init__()\n",
    "        self.fc1 = Linear(input_size, 512)\n",
    "        self.bn1 = BatchNorm1d(512)\n",
    "        self.r1 = ReLU()\n",
    "        self.d1 = Dropout(p=0.5)\n",
    "        self.m1 = MaxPool1d(3,stride = 1)\n",
    "        \n",
    "        self.fc2 = Linear(512, 128)\n",
    "        self.bn2 = BatchNorm1d(128)\n",
    "        self.r2 = ReLU()\n",
    "        self.d2 = Dropout(p=0.5)\n",
    "        self.m2 = MaxPool1d(3,stride = 1)\n",
    "        \n",
    "        self.fc3 = Linear(128, 32)\n",
    "#         self.d3 = Dropout(p=0.5)\n",
    "        self.r3 = ReLU()\n",
    "        self.fc4 = Linear(32,num_classes)\n",
    "\n",
    "    def forward(self, x):\n",
    "        x = self.d1 ( self.r1( self.bn1 ( self.fc1(x) ) ) )\n",
    "#         x = self.m1(x)\n",
    "        x = self.d2 ( self.r2( self.bn2 ( self.fc2(x) ) ) )\n",
    "#         x = self.m2(x)\n",
    "        \n",
    "        x = self.r3(self.fc3(x))\n",
    "        out = self.fc4(x)\n",
    "        return out"
   ]
  },
  {
   "cell_type": "code",
   "execution_count": 30,
   "metadata": {},
   "outputs": [],
   "source": [
    "clf = classifier(input_size, c).to(device)\n",
    "lr = 0.001\n",
    "criterion = nn.CrossEntropyLoss()\n",
    "optimizer = torch.optim.Adam(clf.parameters(), lr=lr)"
   ]
  },
  {
   "cell_type": "code",
   "execution_count": 31,
   "metadata": {},
   "outputs": [],
   "source": [
    "def plot_current_loss_profile(train_loss_list, val_loss_list):\n",
    "    plt.plot(range(len(train_loss_list)), train_loss_list, label='train')\n",
    "    plt.plot(range(len(val_loss_list)), val_loss_list, label='val')\n",
    "    plt.legend(loc='upper right')\n",
    "    plt.show()"
   ]
  },
  {
   "cell_type": "code",
   "execution_count": 32,
   "metadata": {},
   "outputs": [
    {
     "name": "stdout",
     "output_type": "stream",
     "text": [
      "[EPOCHS:0] epoch_loss:2.063412207823533, val loss:1.1440152525901794, correct: 1277\n",
      "[EPOCHS:1] epoch_loss:1.0749380130034227, val loss:0.5437600314617157, correct: 1295\n",
      "[EPOCHS:2] epoch_loss:0.5037906376215128, val loss:0.382465198636055, correct: 1311\n",
      "[EPOCHS:3] epoch_loss:0.32042882763422453, val loss:0.276432141661644, correct: 1317\n",
      "[EPOCHS:4] epoch_loss:0.251029181938905, val loss:0.2202514410018921, correct: 1330\n",
      "[EPOCHS:5] epoch_loss:0.20299917115614965, val loss:0.17418739199638367, correct: 1350\n",
      "[EPOCHS:6] epoch_loss:0.1632799506187439, val loss:0.13618825748562813, correct: 1385\n",
      "[EPOCHS:7] epoch_loss:0.127483443571971, val loss:0.1034071110188961, correct: 1390\n",
      "[EPOCHS:8] epoch_loss:0.09849187903679334, val loss:0.07355990633368492, correct: 1398\n",
      "[EPOCHS:9] epoch_loss:0.07445830851793289, val loss:0.05631082318723202, correct: 1400\n",
      "[EPOCHS:10] epoch_loss:0.06124091979402762, val loss:0.04661058820784092, correct: 1401\n",
      "[EPOCHS:11] epoch_loss:0.049036783954271905, val loss:0.03727816417813301, correct: 1407\n",
      "[EPOCHS:12] epoch_loss:0.04164359288719984, val loss:0.03230726346373558, correct: 1408\n",
      "[EPOCHS:13] epoch_loss:0.03645715919824747, val loss:0.02862121630460024, correct: 1407\n",
      "[EPOCHS:14] epoch_loss:0.029917619692591522, val loss:0.027953004464507103, correct: 1409\n",
      "[EPOCHS:15] epoch_loss:0.026887009493433513, val loss:0.02418296318501234, correct: 1413\n",
      "[EPOCHS:16] epoch_loss:0.024097762428797208, val loss:0.02372186817228794, correct: 1412\n",
      "[EPOCHS:17] epoch_loss:0.021861216268287256, val loss:0.019526495598256588, correct: 1411\n",
      "[EPOCHS:18] epoch_loss:0.020585293165193155, val loss:0.017259457614272833, correct: 1412\n",
      "[EPOCHS:19] epoch_loss:0.0175147455615493, val loss:0.019564807415008545, correct: 1410\n",
      "[EPOCHS:20] epoch_loss:0.016944099217653275, val loss:0.018720339983701706, correct: 1411\n",
      "[EPOCHS:21] epoch_loss:0.0161840719385789, val loss:0.019165411591529846, correct: 1413\n",
      "[EPOCHS:22] epoch_loss:0.014927294391852159, val loss:0.018983937799930573, correct: 1413\n",
      "[EPOCHS:23] epoch_loss:0.013406414287881209, val loss:0.01718621188774705, correct: 1413\n",
      "[EPOCHS:24] epoch_loss:0.01272008872519319, val loss:0.016145355068147182, correct: 1413\n",
      "[EPOCHS:25] epoch_loss:0.012760122378285114, val loss:0.017318052239716053, correct: 1411\n",
      "[EPOCHS:26] epoch_loss:0.012762296944856644, val loss:0.017362949904054403, correct: 1411\n",
      "[EPOCHS:27] epoch_loss:0.01141076273499773, val loss:0.018916936591267586, correct: 1412\n",
      "[EPOCHS:28] epoch_loss:0.01150255213276698, val loss:0.01781293097883463, correct: 1411\n",
      "[EPOCHS:29] epoch_loss:0.010588807268784596, val loss:0.015426575671881437, correct: 1411\n",
      "[EPOCHS:30] epoch_loss:0.00958041649741622, val loss:0.015960611402988434, correct: 1412\n",
      "[EPOCHS:31] epoch_loss:0.010404379787639929, val loss:0.01679681148380041, correct: 1414\n",
      "[EPOCHS:32] epoch_loss:0.009778523065436345, val loss:0.020775727927684784, correct: 1412\n",
      "[EPOCHS:33] epoch_loss:0.009953420089844327, val loss:0.017296724021434784, correct: 1412\n",
      "[EPOCHS:34] epoch_loss:0.009411140201756587, val loss:0.016240633092820644, correct: 1413\n",
      "[EPOCHS:35] epoch_loss:0.008577420447881404, val loss:0.015369747299700975, correct: 1413\n",
      "[EPOCHS:36] epoch_loss:0.008685105193692904, val loss:0.012955129146575928, correct: 1414\n",
      "[EPOCHS:37] epoch_loss:0.007720357774255367, val loss:0.016504133120179176, correct: 1413\n",
      "[EPOCHS:38] epoch_loss:0.008397587180997316, val loss:0.016197845805436373, correct: 1413\n",
      "[EPOCHS:39] epoch_loss:0.007450737524777651, val loss:0.013455378822982311, correct: 1413\n",
      "[EPOCHS:40] epoch_loss:0.008046421759690229, val loss:0.01830886024981737, correct: 1411\n",
      "[EPOCHS:41] epoch_loss:0.007195055341491332, val loss:0.016238581389188766, correct: 1412\n",
      "[EPOCHS:42] epoch_loss:0.006582812441942783, val loss:0.016911718994379044, correct: 1413\n",
      "[EPOCHS:43] epoch_loss:0.006683893465938477, val loss:0.018714722245931625, correct: 1412\n",
      "[EPOCHS:44] epoch_loss:0.005509163879861052, val loss:0.016198703087866306, correct: 1414\n",
      "[EPOCHS:45] epoch_loss:0.006261039704370957, val loss:0.015563905704766512, correct: 1413\n",
      "[EPOCHS:46] epoch_loss:0.006243167373423393, val loss:0.013289929367601871, correct: 1412\n",
      "[EPOCHS:47] epoch_loss:0.005899222012465963, val loss:0.017159894108772278, correct: 1411\n",
      "[EPOCHS:48] epoch_loss:0.0057501213159412146, val loss:0.01822521910071373, correct: 1412\n",
      "[EPOCHS:49] epoch_loss:0.00453838029016669, val loss:0.01694339793175459, correct: 1412\n",
      "[EPOCHS:50] epoch_loss:0.005000869725615933, val loss:0.013902092818170786, correct: 1413\n",
      "[EPOCHS:51] epoch_loss:0.004953952112163489, val loss:0.01668691635131836, correct: 1414\n",
      "[EPOCHS:52] epoch_loss:0.004551741330382915, val loss:0.021205557510256767, correct: 1413\n",
      "[EPOCHS:53] epoch_loss:0.005391868207460413, val loss:0.019824763759970665, correct: 1412\n",
      "[EPOCHS:54] epoch_loss:0.005026238540617319, val loss:0.015746560879051685, correct: 1413\n",
      "[EPOCHS:55] epoch_loss:0.004812428315814871, val loss:0.013870003167539835, correct: 1413\n",
      "[EPOCHS:56] epoch_loss:0.004268114634144764, val loss:0.020986509509384632, correct: 1412\n",
      "[EPOCHS:57] epoch_loss:0.00389718278669394, val loss:0.012731832917779684, correct: 1416\n",
      "[EPOCHS:58] epoch_loss:0.0039280425184048135, val loss:0.013695152942091227, correct: 1414\n",
      "[EPOCHS:59] epoch_loss:0.0037171974455794464, val loss:0.017155498266220093, correct: 1412\n",
      "[EPOCHS:60] epoch_loss:0.0055183911552796, val loss:0.023954841308295727, correct: 1409\n",
      "[EPOCHS:61] epoch_loss:0.00456255183626826, val loss:0.020361019298434258, correct: 1411\n",
      "[EPOCHS:62] epoch_loss:0.004743334067125733, val loss:0.020046750083565712, correct: 1412\n",
      "[EPOCHS:63] epoch_loss:0.004709430522500322, val loss:0.018660699017345905, correct: 1410\n",
      "[EPOCHS:64] epoch_loss:0.004564332632491222, val loss:0.016463436651974916, correct: 1413\n",
      "[EPOCHS:65] epoch_loss:0.005773856107575389, val loss:0.012837949208915234, correct: 1416\n",
      "[EPOCHS:66] epoch_loss:0.004588150025273745, val loss:0.021311309188604355, correct: 1412\n",
      "[EPOCHS:67] epoch_loss:0.004976017400622368, val loss:0.022476552985608578, correct: 1410\n",
      "[EPOCHS:68] epoch_loss:0.00480836106894108, val loss:0.016865261364728212, correct: 1412\n",
      "[EPOCHS:69] epoch_loss:0.003920087662453835, val loss:0.014863041462376714, correct: 1413\n",
      "[EPOCHS:70] epoch_loss:0.0053932686658719415, val loss:0.017064518062397838, correct: 1414\n",
      "[EPOCHS:71] epoch_loss:0.006011004882076612, val loss:0.01611978095024824, correct: 1413\n",
      "[EPOCHS:72] epoch_loss:0.005458808915976148, val loss:0.02131187543272972, correct: 1412\n",
      "[EPOCHS:73] epoch_loss:0.006306650528970819, val loss:0.0193165997043252, correct: 1413\n",
      "[EPOCHS:74] epoch_loss:0.004931929037691309, val loss:0.01995069347321987, correct: 1413\n",
      "[EPOCHS:75] epoch_loss:0.005103085852729587, val loss:0.01754529168829322, correct: 1412\n",
      "[EPOCHS:76] epoch_loss:0.00439180492853316, val loss:0.01790878875181079, correct: 1414\n",
      "[EPOCHS:77] epoch_loss:0.0045705668341654996, val loss:0.019093082286417484, correct: 1413\n",
      "[EPOCHS:78] epoch_loss:0.003784031356469943, val loss:0.01767469011247158, correct: 1413\n",
      "[EPOCHS:79] epoch_loss:0.0038999841870883335, val loss:0.014601567294448614, correct: 1414\n",
      "[EPOCHS:80] epoch_loss:0.0038658458327587982, val loss:0.01376444660127163, correct: 1413\n",
      "[EPOCHS:81] epoch_loss:0.004264991855821931, val loss:0.013239643070846796, correct: 1413\n",
      "[EPOCHS:82] epoch_loss:0.0034557892582737482, val loss:0.020117403008043766, correct: 1414\n",
      "[EPOCHS:83] epoch_loss:0.0037344660690555777, val loss:0.016844263765960932, correct: 1413\n",
      "[EPOCHS:84] epoch_loss:0.00316646471261405, val loss:0.014179656747728586, correct: 1414\n",
      "[EPOCHS:85] epoch_loss:0.00323878382690824, val loss:0.01649003801867366, correct: 1412\n",
      "[EPOCHS:86] epoch_loss:0.0031368987312397133, val loss:0.018663653638213873, correct: 1411\n",
      "[EPOCHS:87] epoch_loss:0.0031376984239054415, val loss:0.015995503403246403, correct: 1411\n",
      "[EPOCHS:88] epoch_loss:0.002556616400117771, val loss:0.01807283889502287, correct: 1412\n",
      "[EPOCHS:89] epoch_loss:0.002499791865165417, val loss:0.017268003430217505, correct: 1413\n",
      "[EPOCHS:90] epoch_loss:0.0023303851664352873, val loss:0.016547316685318947, correct: 1415\n",
      "[EPOCHS:91] epoch_loss:0.0025607947116860976, val loss:0.015544152352958918, correct: 1414\n"
     ]
    },
    {
     "name": "stdout",
     "output_type": "stream",
     "text": [
      "[EPOCHS:92] epoch_loss:0.002542281158429642, val loss:0.01830102689564228, correct: 1414\n",
      "[EPOCHS:93] epoch_loss:0.002521093003451824, val loss:0.01871885033324361, correct: 1413\n",
      "[EPOCHS:94] epoch_loss:0.0024703514869683064, val loss:0.020333504769951105, correct: 1413\n",
      "[EPOCHS:95] epoch_loss:0.001995839662133501, val loss:0.016617147251963615, correct: 1413\n",
      "[EPOCHS:96] epoch_loss:0.0020511299998571095, val loss:0.01732051931321621, correct: 1415\n",
      "[EPOCHS:97] epoch_loss:0.0024336346675856756, val loss:0.01968430122360587, correct: 1414\n",
      "[EPOCHS:98] epoch_loss:0.0021678145276382565, val loss:0.0193395153619349, correct: 1413\n",
      "[EPOCHS:99] epoch_loss:0.002727974528590074, val loss:0.021816673688590527, correct: 1413\n"
     ]
    },
    {
     "data": {
      "image/png": "[encoded data removed]",
      "text/plain": [
       "<Figure size 432x288 with 1 Axes>"
      ]
     },
     "metadata": {
      "needs_background": "light"
     },
     "output_type": "display_data"
    }
   ],
   "source": [
    "clf.train()\n",
    "train_loss_total = []\n",
    "val_loss_total = []\n",
    "for e in range(epochs):\n",
    "    running_epoch_loss = 0\n",
    "    correct = 0\n",
    "    for data, target in train_loader:\n",
    "        counter+=1\n",
    "        data, target = data.to(device).float(), target.to(device).long()\n",
    "        clf.zero_grad()\n",
    "        output = clf(data)\n",
    "        loss = criterion(output, target)\n",
    "        running_epoch_loss+=loss.item()\n",
    "        loss.backward()\n",
    "        # nn.utils.clip_grad_norm_(clf.parameters(), clip) # need this??\n",
    "        optimizer.step()\n",
    "#     print('correct first: ', correct.item())\n",
    "    clf.eval()\n",
    "    running_val_loss = 0\n",
    "    correct = 0\n",
    "    for data, target in test_loader:\n",
    "        data, target = data.to(device), target.to(device).long()\n",
    "        output = clf(data)\n",
    "        \n",
    "        correct+=torch.sum(torch.argmax(output, dim=1)==target)\n",
    "        \n",
    "        val_loss = criterion(output, target)\n",
    "        running_val_loss+=val_loss.item()\n",
    "    train_loss_total.append(running_epoch_loss/len(train_loader))\n",
    "    val_loss_total.append(running_val_loss/len(test_loader))\n",
    "    clf.train()\n",
    "    print('[EPOCHS:{}] epoch_loss:{}, val loss:{}, correct: {}'.format(e, train_loss_total[-1], val_loss_total[-1], correct))\n",
    "plot_current_loss_profile(train_loss_total, val_loss_total)\n",
    "torch.save(clf.state_dict(), 'classifier_nway.pth')"
   ]
  },
  {
   "cell_type": "markdown",
   "metadata": {},
   "source": [
    "### Other ideas\n",
    "\n",
    "1. Autoencoders to latents?\n",
    "<br>\n",
    "2. Embedding matrix?\n",
    "<br>\n",
    "3. reduce sparsity\n",
    "<br>\n",
    "4. Txt2pic: converts each char in each line of RFC into a pixel value. \n",
    "<br>\n",
    "\n",
    "### AI:\n",
    "post processing : break RFCs into separate blocks and label the dominant. Plot the CM for blocks."
   ]
  },
  {
   "cell_type": "markdown",
   "metadata": {},
   "source": [
    "## MQTT exp"
   ]
  },
  {
   "cell_type": "code",
   "execution_count": 33,
   "metadata": {},
   "outputs": [
    {
     "name": "stdout",
     "output_type": "stream",
     "text": [
      "test samples: 1279\n",
      "[[1077    0    0    1    0    1    0    0    0    0]\n",
      " [   0    0    0    0    0    0    0    0    0    0]\n",
      " [   0    1   21   32   31    0    0    1    0    2]\n",
      " [   4    0    0   37    1    0    1    0    0    3]\n",
      " [   0    0    0    0    0    0    0    0    0    0]\n",
      " [   0    0    0    0    0    0    0    0    0    0]\n",
      " [   0    0    0    0    0    0    0    0    0    0]\n",
      " [   0    0    0    0    0    0    0    0    0    0]\n",
      " [   0    0    0    0    0    0    0    0   47    0]\n",
      " [  15    0    0    0    0    0    0    0    0    4]]\n"
     ]
    }
   ],
   "source": [
    "A, X_test, ya, y_test = train_test_split(big_mat_mqtt, y_mqtt, test_size=0, random_state=42)\n",
    "print('test samples: {}'.format(A.shape[0]))\n",
    "\n",
    "mqtttest = TensorDataset(torch.Tensor(A), torch.Tensor(ya)) \n",
    "# test_dataset = TensorDataset(torch.Tensor(X_test), torch.Tensor(y_test))\n",
    "\n",
    "mqtttest_loader = torch.utils.data.DataLoader(dataset=mqtttest,\n",
    "                                                    batch_size=1024, \n",
    "                                                    shuffle=True)\n",
    "\n",
    "clf = classifier(input_size, c).to(device)\n",
    "clf.load_state_dict(torch.load('classifier_nway.pth'))\n",
    "\n",
    "import sklearn.metrics as metrics\n",
    "from sklearn.metrics import roc_auc_score\n",
    "from sklearn.metrics import confusion_matrix\n",
    "\n",
    "r = 6 # strdef\n",
    "miscls = []\n",
    "correct_classified = []\n",
    "\n",
    "y_true, y_pred = [], []\n",
    "for data, target in mqtttest_loader:\n",
    "    data, target = data.to(device), target.to(device).long()\n",
    "    output = clf(data)\n",
    "    \n",
    "    _y_pred = torch.argmax(output, dim=1).cpu().detach().numpy().tolist()\n",
    "    y_pred.extend(_y_pred)\n",
    "    \n",
    "    _target = target.cpu().detach().numpy().tolist()\n",
    "    y_true.extend(_target)\n",
    "    \n",
    "    for i in range(len(_y_pred)):\n",
    "        if _target[i]==r and _y_pred[i]!=r:\n",
    "            miscls.append(data.cpu().detach().numpy()[i])\n",
    "        elif _target[i]==r and _y_pred[i]==r:\n",
    "            correct_classified.append(data.cpu().detach().numpy()[i])\n",
    "    \n",
    "cm = confusion_matrix(y_true, y_pred)\n",
    "\n",
    "print(cm)\n",
    "\n",
    "# df_cm = pd.DataFrame(cm, range(9), range(9))\n",
    "# sns.set(df_cm, annnot=True, annot_kws={\"size\": 10}, fmt='g') # font size"
   ]
  },
  {
   "cell_type": "code",
   "execution_count": 34,
   "metadata": {},
   "outputs": [
    {
     "ename": "SyntaxError",
     "evalue": "invalid syntax (<ipython-input-34-18d587a9dc61>, line 1)",
     "output_type": "error",
     "traceback": [
      "\u001b[0;36m  File \u001b[0;32m\"<ipython-input-34-18d587a9dc61>\"\u001b[0;36m, line \u001b[0;32m1\u001b[0m\n\u001b[0;31m    label_mqtt: 0, samples : 1528\u001b[0m\n\u001b[0m              ^\u001b[0m\n\u001b[0;31mSyntaxError\u001b[0m\u001b[0;31m:\u001b[0m invalid syntax\n"
     ]
    }
   ],
   "source": [
    "label_mqtt: 0, samples : 1528\n",
    "label_mqtt: 1, samples : 3\n",
    "label_mqtt: 2, samples : 97\n",
    "label_mqtt: 3, samples : 48\n",
    "label_mqtt: 4, samples : 0\n",
    "label_mqtt: 5, samples : 0\n",
    "label_mqtt: 6, samples : 0\n",
    "label_mqtt: 7, samples : 0\n",
    "label_mqtt: 8, samples : 0\n",
    "label_mqtt: 9, samples : 0\n",
    "label_mqtt: 10, samples : 0\n",
    "label_mqtt: 11, samples : 47\n",
    "label_mqtt: 12, samples : 19"
   ]
  },
  {
   "cell_type": "code",
   "execution_count": null,
   "metadata": {},
   "outputs": [],
   "source": [
    "print('total target class misclassified',len(miscls))\n",
    "\n",
    "def one_hot_to_idx(t):\n",
    "    r = []\n",
    "    for i in t:\n",
    "        b = np.where(i==1)[0][0]\n",
    "        r.append(b)\n",
    "    return np.array(r)\n",
    "\n",
    "def idx_to_charr(v):\n",
    "    r = []\n",
    "    for i in v:\n",
    "        r.append(idx_to_char[i])\n",
    "    return r\n",
    "\n",
    "middleelement = 11//2\n",
    "for i,e in enumerate(miscls):\n",
    "    r = one_hot_to_idx(e.reshape(5, 82, 34)[middleelement])\n",
    "    print(i)\n",
    "    print(''.join(idx_to_charr(r)))\n",
    "    print('\\n---------next line-----------\\n')"
   ]
  },
  {
   "cell_type": "code",
   "execution_count": null,
   "metadata": {},
   "outputs": [],
   "source": [
    "# miscls[4][middleelement]"
   ]
  },
  {
   "cell_type": "code",
   "execution_count": null,
   "metadata": {},
   "outputs": [],
   "source": [
    "# 2131:\n",
    "# 'onr_rfcclass_nlt' : 0, \n",
    "# 'onr_rfcclass_strdef' : 1, \n",
    "# 'onr_rfcclass_msgStructure' : 2,\n",
    "# 'onr_rfcclass_dataflow' : 3,\n",
    "# 'onr_rfcclass_topologyDiag' : 4,\n",
    "# 'onr_rfcclass_table' : 5,\n",
    "# 'onr_rfcclass_stateTD' : 6,\n",
    "# 'onr_rfcclass_cs' : 7,\n",
    "# 'onr_rfcclass_protocolLayerDiag' : 8,\n",
    "# 'onr_rfcclass_caption' : 9,\n",
    "# 'onr_rfcclass_headers' : 10,\n",
    "# 'onr_rfcclass_toc' : 11,\n",
    "# 'onr_rfcclass_lex_spec' : 12\n",
    "\n",
    "# test samples: 2276\n",
    "#  [1888    0    0    0    0    0    0    0    0    0]\n",
    "#  [   0    0    0    0    0    0    0    0    0    0]\n",
    "#  [   0    0   33    1    0    2    0    0    0    0] msgstructure\n",
    "#  [   1    0   16   55    0    0    0    0    0    0] dataflow\n",
    "#  [   0    0    0    0    0    0    0    0    0    0]\n",
    "#  [ 106    2   11   43    0   16    0    0    0    2] table\n",
    "#  [   2    0    2    2    7    1    0    0   29    0] statediag\n",
    "#  [   2    3    0    2    0    0    0    0    0    6] captions -- also not standardized\n",
    "#  [   0    0    0    0    0    0    0    0   44    0] table of contents\n",
    "#  [   0    0    0    0    0    0    0    0    0    0]\n",
    "\n",
    "\n",
    "# [[ 0  0  0  0  0  0  0  0  0]\n",
    "#  [ 0 35  1  0  0  0  0  0  0]\n",
    "#  [ 0  6 47 13  0  0  0  0  6]\n",
    "#  [ 0  0  0  0  0  0  0  0  0]\n",
    "#  [11 20 59  8 39  2  0  5 36]\n",
    "#  [ 0 11  1  2  0  0  0 29  0]\n",
    "#  [ 0  2  0  0  0  0  0  1 10]\n",
    "#  [ 0  0  0  0  0  0  0 44  0]\n",
    "#  [ 0  0  0  0  0  0  0  0  0]]\n",
    "\n",
    "\n",
    "# label_mqtt: 0, samples : 1888\n",
    "# label_mqtt: 1, samples : 0\n",
    "# label_mqtt: 2, samples : 36\n",
    "# label_mqtt: 3, samples : 72\n",
    "# label_mqtt: 4, samples : 0\n",
    "# label_mqtt: 5, samples : 180\n",
    "# label_mqtt: 6, samples : 43\n",
    "# label_mqtt: 7, samples : 0\n",
    "# label_mqtt: 8, samples : 0\n",
    "# label_mqtt: 9, samples : 13\n",
    "# label_mqtt: 10, samples : 0\n",
    "# label_mqtt: 11, samples : 44\n",
    "# label_mqtt: 12, samples : 0\n",
    "\n",
    "\n",
    "##############################################################################################################\n",
    "\n",
    "# 1661: window 2\n",
    "# [[2511    0    2    8    0    6    0    9    6]\n",
    "#  [   3    0    2    7    5    0    0    0    1] strdef\n",
    "#  [  34    0   63   16    0    6    0    0    0]\n",
    "#  [   0    0    0    0    0    0    0    0    0]\n",
    "#  [   0    0    0    0    0    0    0    0    0]\n",
    "#  [  29    0    3   39    0    5    1    0    4] table\n",
    "#  [   0    0    7    6    0    0    1    0    0] stateTD\n",
    "#  [   7    0    0    0    0    0    0   39    0]\n",
    "#  [   0    0    0    0    0    0    0    0    0]]\n",
    "\n",
    "\n",
    "# label_mqtt: 0, samples : 2537\n",
    "# label_mqtt: 1, samples : 18\n",
    "# label_mqtt: 2, samples : 119\n",
    "# label_mqtt: 3, samples : 0\n",
    "# label_mqtt: 4, samples : 0\n",
    "# label_mqtt: 5, samples : 81\n",
    "# label_mqtt: 6, samples : 14\n",
    "# label_mqtt: 7, samples : 0\n",
    "# label_mqtt: 8, samples : 0\n",
    "# label_mqtt: 9, samples : 0\n",
    "# label_mqtt: 10, samples : 0\n",
    "# label_mqtt: 11, samples : 46\n",
    "# label_mqtt: 12, samples : 0\n",
    "\n",
    "# strdef : very few examples (1661, mqtt) and both are wildly different\n",
    "# toc now fixed\n",
    "# table : postprocessing fixes\n",
    "# stateTD : very few examples and very varied\n",
    "\n",
    "\n",
    "# [[ 0  0  5  4  0  0  0  9] strdef\n",
    "#  [ 0 79 30  1  1  0  0  8] msgstructure\n",
    "#  [ 0  0  0  0  0  0  0  0]\n",
    "#  [ 0  0  0  0  0  0  0  0]\n",
    "#  [ 1  1 39  0 25  1  0 14] \n",
    "#  [ 0  3 10  0  1  0  0  0]\n",
    "#  [ 0  0  0  0  0  0 46  0]\n",
    "#  [ 0  0  0  0  0  0  0  0]]\n",
    "\n",
    "\n",
    "\n",
    "##############################################################################################################\n",
    "\n",
    "\n",
    "\n",
    "# test samples: 2675\n",
    "# [[2241    2    0   21    0   10    0    0    3]\n",
    "#  [   0    0    0    0    0    0    0    0    0]\n",
    "#  [  11    0   55  137   23    2    2    0    1]\n",
    "#  [   0    0    1   69    8    0    0    0    2]\n",
    "#  [   0    0    2   11    1    0    0    0    1]\n",
    "#  [   0    0    0    0    0    0    0    0    0]\n",
    "#  [   0    0    0    0    0    0    0    0    0]\n",
    "#  [   0    0    0    0    0    0    0   72    0]\n",
    "#  [   0    0    0    0    0    0    0    0    0]]\n",
    "\n",
    "# label_mqtt: 0, samples : 2277\n",
    "# label_mqtt: 0, samples : 0\n",
    "# label_mqtt: 1, samples : 231\n",
    "# label_mqtt: 2, samples : 80\n",
    "# label_mqtt: 3, samples : 15\n",
    "# label_mqtt: 4, samples : 0\n",
    "# label_mqtt: 5, samples : 0\n",
    "# label_mqtt: 6, samples : 0\n",
    "# label_mqtt: 7, samples : 0\n",
    "# label_mqtt: 8, samples : 0\n",
    "# label_mqtt: 9, samples : 0\n",
    "# label_mqtt: 10, samples : 72\n",
    "# label_mqtt: 11, samples : 0\n",
    "# label_mqtt: 12, samples : 0"
   ]
  }
 ],
 "metadata": {
  "kernelspec": {
   "display_name": "Python [conda env:onr]",
   "language": "python",
   "name": "conda-env-onr-py"
  },
  "language_info": {
   "codemirror_mode": {
    "name": "ipython",
    "version": 3
   },
   "file_extension": ".py",
   "mimetype": "text/x-python",
   "name": "python",
   "nbconvert_exporter": "python",
   "pygments_lexer": "ipython3",
   "version": "3.5.6"
  }
 },
 "nbformat": 4,
 "nbformat_minor": 2
}
